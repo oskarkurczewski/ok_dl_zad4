{
 "cells": [
  {
   "cell_type": "markdown",
   "source": [
    "# **Analiza statystyczna zbioru danych dot. ślimaków zwanych słuchotkami (lub uchowcami)**\n",
    "\n",
    "**Importowanie pakietu pandas i numpy oraz wyświetlenie ich wersji**"
   ],
   "metadata": {
    "collapsed": false,
    "pycharm": {
     "name": "#%% md\n"
    }
   }
  },
  {
   "cell_type": "code",
   "execution_count": 1,
   "outputs": [
    {
     "name": "stdout",
     "output_type": "stream",
     "text": [
      "\n",
      "Wersja pakietu pandas:  1.1.4\n",
      "Wersja pakietu numpy:  1.21.3\n"
     ]
    }
   ],
   "source": [
    "import pandas as pd\n",
    "import numpy as np\n",
    "from IPython.core.display import display\n",
    "\n",
    "print('\\nWersja pakietu pandas: ', pd.__version__)\n",
    "print('Wersja pakietu numpy: ', np.__version__)"
   ],
   "metadata": {
    "collapsed": false,
    "pycharm": {
     "name": "#%%\n"
    }
   }
  },
  {
   "cell_type": "markdown",
   "source": [
    "**Importowanie danych z pliku csv oraz nadanie nazw kolumnom**"
   ],
   "metadata": {
    "collapsed": false,
    "pycharm": {
     "name": "#%% md\n"
    }
   }
  },
  {
   "cell_type": "code",
   "execution_count": 2,
   "outputs": [],
   "source": [
    "col_names = ['sex', 'length', 'diameter',\n",
    "            'height', 'whole weight', 'shucked weight',\n",
    "            'viscera weight', 'shell weight', 'rings']\n",
    "\n",
    "data = pd.read_csv('data.csv', names = col_names)"
   ],
   "metadata": {
    "collapsed": false,
    "pycharm": {
     "name": "#%%\n"
    }
   }
  },
  {
   "cell_type": "markdown",
   "source": [
    "*Wymagania na ocenę dostateczną:*\n",
    "\n",
    "1. Tabela dla cechy jakościowej"
   ],
   "metadata": {
    "collapsed": false
   }
  },
  {
   "cell_type": "code",
   "execution_count": 3,
   "outputs": [
    {
     "data": {
      "text/plain": "   count  percentage\nM   1528   36.581278\nI   1342   32.128322\nF   1307   31.290400",
      "text/html": "<div>\n<style scoped>\n    .dataframe tbody tr th:only-of-type {\n        vertical-align: middle;\n    }\n\n    .dataframe tbody tr th {\n        vertical-align: top;\n    }\n\n    .dataframe thead th {\n        text-align: right;\n    }\n</style>\n<table border=\"1\" class=\"dataframe\">\n  <thead>\n    <tr style=\"text-align: right;\">\n      <th></th>\n      <th>count</th>\n      <th>percentage</th>\n    </tr>\n  </thead>\n  <tbody>\n    <tr>\n      <th>M</th>\n      <td>1528</td>\n      <td>36.581278</td>\n    </tr>\n    <tr>\n      <th>I</th>\n      <td>1342</td>\n      <td>32.128322</td>\n    </tr>\n    <tr>\n      <th>F</th>\n      <td>1307</td>\n      <td>31.290400</td>\n    </tr>\n  </tbody>\n</table>\n</div>"
     },
     "metadata": {},
     "output_type": "display_data"
    }
   ],
   "source": [
    "count = data['sex'].value_counts()\n",
    "percentage = []\n",
    "\n",
    "for i in range (len(count)):\n",
    "    percentage.append((count[i] / data['sex'].count())*100)\n",
    "\n",
    "percentage = pd.Series(percentage, index = ['M', 'I', 'F'])\n",
    "\n",
    "output = pd.concat([count, percentage], axis = 1)\n",
    "output.columns = ['count', 'percentage']\n",
    "\n",
    "display(output)"
   ],
   "metadata": {
    "collapsed": false,
    "pycharm": {
     "name": "#%%\n"
    }
   }
  },
  {
   "cell_type": "markdown",
   "source": [
    "2. Tabela dla cech ilościowych\n",
    "\n"
   ],
   "metadata": {
    "collapsed": false,
    "pycharm": {
     "name": "#%% md\n"
    }
   }
  }
 ],
 "metadata": {
  "kernelspec": {
   "display_name": "Python 3",
   "language": "python",
   "name": "python3"
  },
  "language_info": {
   "codemirror_mode": {
    "name": "ipython",
    "version": 3
   },
   "file_extension": ".py",
   "mimetype": "text/x-python",
   "name": "python",
   "nbconvert_exporter": "python",
   "pygments_lexer": "ipython3",
   "version": "3.8.3"
  }
 },
 "nbformat": 4,
 "nbformat_minor": 1
}