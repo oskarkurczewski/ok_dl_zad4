{
 "cells": [
  {
   "cell_type": "markdown",
   "source": [
    "# **Analiza statystyczna zbioru danych dot. ślimaków zwanych słuchotkami (lub uchowcami)**\n",
    "\n",
    "**Importowanie pakietu pandas i numpy oraz wyświetlenie ich wersji**"
   ],
   "metadata": {
    "collapsed": false,
    "pycharm": {
     "name": "#%% md\n"
    }
   }
  },
  {
   "cell_type": "code",
   "execution_count": 1,
   "outputs": [
    {
     "name": "stdout",
     "output_type": "stream",
     "text": [
      "\n",
      "Wersja pakietu pandas:  1.1.4\n",
      "Wersja pakietu numpy:  1.21.3\n"
     ]
    }
   ],
   "source": [
    "import pandas as pd\n",
    "import numpy as np\n",
    "from IPython.core.display import display\n",
    "\n",
    "print('\\nWersja pakietu pandas: ', pd.__version__)\n",
    "print('Wersja pakietu numpy: ', np.__version__)"
   ],
   "metadata": {
    "collapsed": false,
    "pycharm": {
     "name": "#%%\n"
    }
   }
  },
  {
   "cell_type": "markdown",
   "source": [
    "**Importowanie danych z pliku csv oraz nadanie nazw kolumnom**"
   ],
   "metadata": {
    "collapsed": false,
    "pycharm": {
     "name": "#%% md\n"
    }
   }
  },
  {
   "cell_type": "code",
   "execution_count": 2,
   "outputs": [],
   "source": [
    "col_names = ['sex', 'length', 'diameter',\n",
    "            'height', 'whole weight', 'shucked weight',\n",
    "            'viscera weight', 'shell weight', 'rings']\n",
    "\n",
    "data = pd.read_csv('data.csv', names = col_names)"
   ],
   "metadata": {
    "collapsed": false,
    "pycharm": {
     "name": "#%%\n"
    }
   }
  },
  {
   "cell_type": "markdown",
   "source": [
    "*Wymagania na ocenę dostateczną:*\n",
    "\n",
    "1. Tabela dla cechy jakościowej"
   ],
   "metadata": {
    "collapsed": false
   }
  },
  {
   "cell_type": "code",
   "execution_count": 3,
   "outputs": [
    {
     "data": {
      "text/plain": "   count  percentage\nM   1528   36.581278\nI   1342   32.128322\nF   1307   31.290400",
      "text/html": "<div>\n<style scoped>\n    .dataframe tbody tr th:only-of-type {\n        vertical-align: middle;\n    }\n\n    .dataframe tbody tr th {\n        vertical-align: top;\n    }\n\n    .dataframe thead th {\n        text-align: right;\n    }\n</style>\n<table border=\"1\" class=\"dataframe\">\n  <thead>\n    <tr style=\"text-align: right;\">\n      <th></th>\n      <th>count</th>\n      <th>percentage</th>\n    </tr>\n  </thead>\n  <tbody>\n    <tr>\n      <th>M</th>\n      <td>1528</td>\n      <td>36.581278</td>\n    </tr>\n    <tr>\n      <th>I</th>\n      <td>1342</td>\n      <td>32.128322</td>\n    </tr>\n    <tr>\n      <th>F</th>\n      <td>1307</td>\n      <td>31.290400</td>\n    </tr>\n  </tbody>\n</table>\n</div>"
     },
     "metadata": {},
     "output_type": "display_data"
    }
   ],
   "source": [
    "count = data['sex'].value_counts()\n",
    "percentage = []\n",
    "\n",
    "for i in range (len(count)):\n",
    "    percentage.append((count[i] / data['sex'].count())*100)\n",
    "\n",
    "percentage = pd.Series(percentage, index = ['M', 'I', 'F'])\n",
    "\n",
    "output_qualitative = pd.concat([count, percentage], axis = 1)\n",
    "output_qualitative.columns = ['count', 'percentage']\n",
    "\n",
    "display(output_qualitative)"
   ],
   "metadata": {
    "collapsed": false,
    "pycharm": {
     "name": "#%%\n"
    }
   }
  },
  {
   "cell_type": "markdown",
   "source": [
    "2. Tabela dla cech ilościowych"
   ],
   "metadata": {
    "collapsed": false,
    "pycharm": {
     "name": "#%% md\n"
    }
   }
  },
  {
   "cell_type": "code",
   "execution_count": 4,
   "outputs": [
    {
     "data": {
      "text/plain": "                    mean       std     min     25%     50%     75%      max\nlength          0.523992  0.120093  0.0750  0.4500  0.5450   0.615   0.8150\ndiameter        0.407881  0.099240  0.0550  0.3500  0.4250   0.480   0.6500\nheight          0.139516  0.041827  0.0000  0.1150  0.1400   0.165   1.1300\nwhole weight    0.828742  0.490389  0.0020  0.4415  0.7995   1.153   2.8255\nshucked weight  0.359367  0.221963  0.0010  0.1860  0.3360   0.502   1.4880\nviscera weight  0.180594  0.109614  0.0005  0.0935  0.1710   0.253   0.7600\nshell weight    0.238831  0.139203  0.0015  0.1300  0.2340   0.329   1.0050\nrings           9.933684  3.224169  1.0000  8.0000  9.0000  11.000  29.0000",
      "text/html": "<div>\n<style scoped>\n    .dataframe tbody tr th:only-of-type {\n        vertical-align: middle;\n    }\n\n    .dataframe tbody tr th {\n        vertical-align: top;\n    }\n\n    .dataframe thead th {\n        text-align: right;\n    }\n</style>\n<table border=\"1\" class=\"dataframe\">\n  <thead>\n    <tr style=\"text-align: right;\">\n      <th></th>\n      <th>mean</th>\n      <th>std</th>\n      <th>min</th>\n      <th>25%</th>\n      <th>50%</th>\n      <th>75%</th>\n      <th>max</th>\n    </tr>\n  </thead>\n  <tbody>\n    <tr>\n      <th>length</th>\n      <td>0.523992</td>\n      <td>0.120093</td>\n      <td>0.0750</td>\n      <td>0.4500</td>\n      <td>0.5450</td>\n      <td>0.615</td>\n      <td>0.8150</td>\n    </tr>\n    <tr>\n      <th>diameter</th>\n      <td>0.407881</td>\n      <td>0.099240</td>\n      <td>0.0550</td>\n      <td>0.3500</td>\n      <td>0.4250</td>\n      <td>0.480</td>\n      <td>0.6500</td>\n    </tr>\n    <tr>\n      <th>height</th>\n      <td>0.139516</td>\n      <td>0.041827</td>\n      <td>0.0000</td>\n      <td>0.1150</td>\n      <td>0.1400</td>\n      <td>0.165</td>\n      <td>1.1300</td>\n    </tr>\n    <tr>\n      <th>whole weight</th>\n      <td>0.828742</td>\n      <td>0.490389</td>\n      <td>0.0020</td>\n      <td>0.4415</td>\n      <td>0.7995</td>\n      <td>1.153</td>\n      <td>2.8255</td>\n    </tr>\n    <tr>\n      <th>shucked weight</th>\n      <td>0.359367</td>\n      <td>0.221963</td>\n      <td>0.0010</td>\n      <td>0.1860</td>\n      <td>0.3360</td>\n      <td>0.502</td>\n      <td>1.4880</td>\n    </tr>\n    <tr>\n      <th>viscera weight</th>\n      <td>0.180594</td>\n      <td>0.109614</td>\n      <td>0.0005</td>\n      <td>0.0935</td>\n      <td>0.1710</td>\n      <td>0.253</td>\n      <td>0.7600</td>\n    </tr>\n    <tr>\n      <th>shell weight</th>\n      <td>0.238831</td>\n      <td>0.139203</td>\n      <td>0.0015</td>\n      <td>0.1300</td>\n      <td>0.2340</td>\n      <td>0.329</td>\n      <td>1.0050</td>\n    </tr>\n    <tr>\n      <th>rings</th>\n      <td>9.933684</td>\n      <td>3.224169</td>\n      <td>1.0000</td>\n      <td>8.0000</td>\n      <td>9.0000</td>\n      <td>11.000</td>\n      <td>29.0000</td>\n    </tr>\n  </tbody>\n</table>\n</div>"
     },
     "metadata": {},
     "output_type": "display_data"
    }
   ],
   "source": [
    "length = data['length']\n",
    "\n",
    "mean_values = data.loc[:, data.columns != 'sex'].mean()\n",
    "std_values = data.loc[:, data.columns != 'sex'].std()\n",
    "min_values = data.loc[:, data.columns != 'sex'].min()\n",
    "first_quartile = data.loc[:, data.columns != 'sex'].quantile(0.25)\n",
    "median = data.loc[:, data.columns != 'sex'].quantile(0.5)\n",
    "third_quartile = data.loc[:, data.columns != 'sex'].quantile(0.75)\n",
    "max_values = data.loc[:, data.columns != 'sex'].max()\n",
    "\n",
    "\n",
    "output_quantitative = pd.concat([mean_values, std_values, min_values, first_quartile,\n",
    "                                 median, third_quartile, max_values], axis = 1)\n",
    "\n",
    "output_quantitative.columns = ['mean', 'std', 'min', '25%', '50%', '75%', 'max']\n",
    "\n",
    "display(output_quantitative)\n",
    "\n",
    "\n",
    "\n",
    "\n"
   ],
   "metadata": {
    "collapsed": false,
    "pycharm": {
     "name": "#%%\n"
    }
   }
  }
 ],
 "metadata": {
  "kernelspec": {
   "display_name": "Python 3",
   "language": "python",
   "name": "python3"
  },
  "language_info": {
   "codemirror_mode": {
    "name": "ipython",
    "version": 3
   },
   "file_extension": ".py",
   "mimetype": "text/x-python",
   "name": "python",
   "nbconvert_exporter": "python",
   "pygments_lexer": "ipython3",
   "version": "3.8.3"
  }
 },
 "nbformat": 4,
 "nbformat_minor": 1
}